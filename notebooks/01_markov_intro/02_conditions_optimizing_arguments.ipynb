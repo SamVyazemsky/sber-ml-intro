{
 "cells": [
  {
   "cell_type": "code",
   "execution_count": null,
   "metadata": {},
   "outputs": [],
   "source": [
    "import pandas as pd\n",
    "import numpy as np\n",
    "from pandas.tseries.offsets import DateOffset\n",
    "import random\n",
    "import time"
   ]
  },
  {
   "cell_type": "code",
   "execution_count": null,
   "metadata": {},
   "outputs": [],
   "source": [
    "def make_adjastent_transitions(daily_summary:pd.Series, adjastend_days: int):\n",
    "    transitions = pd.concat([train_split.shift(),train_split], axis = 1).dropna()\n",
    "    transitions.columns = ['in','out']\n",
    "    transitions['dayofyear'] = transitions.index.dayofyear\n",
    "    transitions['left'] = transitions.index + DateOffset(days=-adjastend_days)\n",
    "    transitions['right'] = transitions.index + DateOffset(days=adjastend_days)\n",
    "    return transitions\n",
    "\n",
    "\n",
    "def make_covar_tuples(adjastent_transitions:pd.DataFrame):\n",
    "    covar = []\n",
    "    for day, dailydata in adjastent_transitions.groupby(by='dayofyear'):\n",
    "        filter_periods = dailydata[['left','right']].reset_index(drop = True)\n",
    "        filter_periods = np.concatenate(\n",
    "            filter_periods.apply(\n",
    "                lambda x: pd.date_range(start = x[0], end = x[1], freq = 'D'), axis = 1\n",
    "            ).values\n",
    "        )\n",
    "        covar += list(map(\n",
    "            lambda x: (day, x[0],x[1]), \n",
    "            adjastent_transitions[adjastent_transitions.index.isin(filter_periods)][['in','out']].values))    \n",
    "    return covar\n",
    "\n",
    "def markov_forecast(adjastent_transitions, covar_tuples):\n",
    "    weather_statement = adtr.iloc[-1].out\n",
    "    forecast = []\n",
    "    \n",
    "    forecast_periods = pd.date_range(\n",
    "        start = adjastent_transitions.index.max(), \n",
    "        periods = 367, freq = 'D'\n",
    "    )[1:]\n",
    "        \n",
    "    for period in forecast_periods:    \n",
    "        next_day_possible_conditions = list(filter(\n",
    "            lambda x:x[0] == period.dayofyear and x[1] == weather_statement, \n",
    "            covar_tuples\n",
    "        ))\n",
    "        \n",
    "        day_prediction = random.choice(next_day_possible_conditions)\n",
    "        weather_statement = day_prediction[2]\n",
    "        forecast.append({'period':period, 'Short Summary':day_prediction[1]})\n",
    "    forecast = pd.DataFrame(forecast).set_index('period').squeeze()\n",
    "    return forecast"
   ]
  },
  {
   "cell_type": "code",
   "execution_count": null,
   "metadata": {},
   "outputs": [],
   "source": [
    "cv_results = []\n",
    "for adjastent_days in range(1, 5):\n",
    "    for iteration in range(5):\n",
    "        ts = time.time()\n",
    "        print('adj. days variable:%i, iteration #%i' % (adjastent_days, iteration), end = '')\n",
    "        adtr = make_adjastent_transitions(train_split, adjastent_days)\n",
    "        covar = make_covar_tuples(adtr)\n",
    "        forecast = markov_forecast(adtr, covar)\n",
    "\n",
    "        prediction_score = pd.concat([\n",
    "            validation_split.to_frame('fact'), \n",
    "            forecast.to_frame('forecast')\n",
    "        ], axis = 1)\\\n",
    "        .apply(lambda x: 1 if x['fact'] == x['forecast'] else 0, axis = 1)\n",
    "\n",
    "        \n",
    "        cv_results.append({\n",
    "            'adjastent_days': adjastent_days, \n",
    "            'iteration': iteration, \n",
    "            'score': prediction_score.sum() / prediction_score.shape[0],\n",
    "            'time_eval_sec': round(time.time() - ts,1)\n",
    "        })      \n",
    "        print(' in %i sec.' % (round(time.time() - ts,1)))"
   ]
  },
  {
   "cell_type": "code",
   "execution_count": null,
   "metadata": {},
   "outputs": [],
   "source": [
    "pd.DataFrame(cv_results).groupby('adjastent_days').score.mean()"
   ]
  }
 ],
 "metadata": {
  "kernelspec": {
   "display_name": "Python 3",
   "language": "python",
   "name": "python3"
  },
  "language_info": {
   "codemirror_mode": {
    "name": "ipython",
    "version": 3
   },
   "file_extension": ".py",
   "mimetype": "text/x-python",
   "name": "python",
   "nbconvert_exporter": "python",
   "pygments_lexer": "ipython3",
   "version": "3.8.1"
  }
 },
 "nbformat": 4,
 "nbformat_minor": 4
}
