{
 "cells": [
  {
   "cell_type": "code",
   "execution_count": null,
   "metadata": {},
   "outputs": [],
   "source": [
    "import pandas as pd\n",
    "import numpy as np\n",
    "from pandas.tseries.offsets import DateOffset\n",
    "import random\n",
    "import time"
   ]
  },
  {
   "cell_type": "code",
   "execution_count": null,
   "metadata": {},
   "outputs": [],
   "source": [
    "def make_adjastent_transitions(daily_summary:pd.Series, adjastend_days: int):\n",
    "    transitions = pd.concat([train_split.shift(),train_split], axis = 1).dropna()\n",
    "    transitions.columns = ['in','out']\n",
    "    transitions['dayofyear'] = transitions.index.dayofyear\n",
    "    transitions['left'] = transitions.index + DateOffset(days=-adjastend_days)\n",
    "    transitions['right'] = transitions.index + DateOffset(days=adjastend_days)\n",
    "    return transitions\n",
    "\n",
    "\n",
    "def make_covar_tuples(adjastent_transitions:pd.DataFrame):\n",
    "    covar = []\n",
    "    for day, dailydata in adjastent_transitions.groupby(by='dayofyear'):\n",
    "        filter_periods = dailydata[['left','right']].reset_index(drop = True)\n",
    "        filter_periods = np.concatenate(\n",
    "            filter_periods.apply(\n",
    "                lambda x: pd.date_range(start = x[0], end = x[1], freq = 'D'), axis = 1\n",
    "            ).values\n",
    "        )\n",
    "        covar += list(map(\n",
    "            lambda x: (day, x[0],x[1]), \n",
    "            adjastent_transitions[adjastent_transitions.index.isin(filter_periods)][['in','out']].values))    \n",
    "    return covar\n",
    "\n",
    "def markov_forecast(adjastent_transitions, covar_tuples):\n",
    "    weather_statement = adtr.iloc[-1].out\n",
    "    forecast = []\n",
    "    \n",
    "    forecast_periods = pd.date_range(\n",
    "        start = adjastent_transitions.index.max(), \n",
    "        periods = 367, freq = 'D'\n",
    "    )[1:]\n",
    "        \n",
    "    for period in forecast_periods:    \n",
    "        next_day_possible_conditions = list(filter(\n",
    "            lambda x:x[0] == period.dayofyear and x[1] == weather_statement, \n",
    "            covar_tuples\n",
    "        ))\n",
    "        \n",
    "        day_prediction = random.choice(next_day_possible_conditions)\n",
    "        weather_statement = day_prediction[2]\n",
    "        forecast.append({'period':period, 'Short Summary':day_prediction[1]})\n",
    "    forecast = pd.DataFrame(forecast).set_index('period').squeeze()\n",
    "    return forecast"
   ]
  },
  {
   "cell_type": "code",
   "execution_count": null,
   "metadata": {},
   "outputs": [],
   "source": [
    "adjastent_days = 4 # best day amount on cv\n",
    "adtr = make_adjastent_transitions(train_split, adjastent_days)\n",
    "covar = make_covar_tuples(adtr)\n",
    "forecast = markov_forecast(adtr, covar)"
   ]
  }
 ],
 "metadata": {
  "kernelspec": {
   "display_name": "Python 3",
   "language": "python",
   "name": "python3"
  },
  "language_info": {
   "codemirror_mode": {
    "name": "ipython",
    "version": 3
   },
   "file_extension": ".py",
   "mimetype": "text/x-python",
   "name": "python",
   "nbconvert_exporter": "python",
   "pygments_lexer": "ipython3",
   "version": "3.8.1"
  }
 },
 "nbformat": 4,
 "nbformat_minor": 4
}
