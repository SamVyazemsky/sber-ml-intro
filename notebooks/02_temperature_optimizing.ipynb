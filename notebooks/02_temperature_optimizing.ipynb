{
 "cells": [
  {
   "cell_type": "code",
   "execution_count": 3,
   "metadata": {},
   "outputs": [],
   "source": [
    "%run ./01_processing.ipynb"
   ]
  },
  {
   "cell_type": "code",
   "execution_count": 4,
   "metadata": {},
   "outputs": [
    {
     "data": {
      "text/plain": [
       "Formatted Date\n",
       "2006-01-01    Mostly cloudy\n",
       "2006-01-02         Overcast\n",
       "2006-01-03    Mostly cloudy\n",
       "2006-01-04         Overcast\n",
       "2006-01-05            Foggy\n",
       "                  ...      \n",
       "2015-12-27            Foggy\n",
       "2015-12-28            Foggy\n",
       "2015-12-29            Foggy\n",
       "2015-12-30    Mostly cloudy\n",
       "2015-12-31    Partly cloudy\n",
       "Name: Short Summary, Length: 3652, dtype: object"
      ]
     },
     "execution_count": 4,
     "metadata": {},
     "output_type": "execute_result"
    }
   ],
   "source": [
    "train_split"
   ]
  }
 ],
 "metadata": {
  "kernelspec": {
   "display_name": "Python 3",
   "language": "python",
   "name": "python3"
  },
  "language_info": {
   "codemirror_mode": {
    "name": "ipython",
    "version": 3
   },
   "file_extension": ".py",
   "mimetype": "text/x-python",
   "name": "python",
   "nbconvert_exporter": "python",
   "pygments_lexer": "ipython3",
   "version": "3.8.1"
  }
 },
 "nbformat": 4,
 "nbformat_minor": 4
}
