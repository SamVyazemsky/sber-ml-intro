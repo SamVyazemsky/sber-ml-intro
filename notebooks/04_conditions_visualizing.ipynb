{
 "cells": [
  {
   "cell_type": "code",
   "execution_count": null,
   "metadata": {},
   "outputs": [],
   "source": [
    "import pandas as pd\n",
    "import numpy as np\n",
    "from pandas.tseries.offsets import DateOffset\n",
    "import random\n",
    "import time"
   ]
  },
  {
   "cell_type": "code",
   "execution_count": null,
   "metadata": {},
   "outputs": [],
   "source": [
    "weather_images = {\n",
    "    'Clear': r'C:\\Users\\me\\Documents\\PyCharmProjects\\weather_markov\\assets\\clear.gif',\n",
    "    'Breezy': r'C:\\Users\\me\\Documents\\PyCharmProjects\\weather_markov\\assets\\partly_cloudy.gif',\n",
    "    \n",
    "    'Foggy': r'C:\\Users\\me\\Documents\\PyCharmProjects\\weather_markov\\assets\\foggy.gif',\n",
    "    'Partly cloudy': r'C:\\Users\\me\\Documents\\PyCharmProjects\\weather_markov\\assets\\partly_cloudy.gif',\n",
    "    'Mostly cloudy': r'C:\\Users\\me\\Documents\\PyCharmProjects\\weather_markov\\assets\\mostly_cloudy_night.gif',\n",
    "    'Overcast': r'C:\\Users\\me\\Documents\\PyCharmProjects\\weather_markov\\assets\\cloudy.gif',\n",
    "    \n",
    "    'Windy': r'C:\\Users\\me\\Documents\\PyCharmProjects\\weather_markov\\assets\\sand_storm.gif',\n",
    "    'Drizzle': r'C:\\Users\\me\\Documents\\PyCharmProjects\\weather_markov\\assets\\cloudy.gif',\n",
    "    'Light rain': r'C:\\Users\\me\\Documents\\PyCharmProjects\\weather_markov\\assets\\light_rain.gif',\n",
    "    'Rain': r'C:\\Users\\me\\Documents\\PyCharmProjects\\weather_markov\\assets\\heavy_rainy.gif'\n",
    "}"
   ]
  },
  {
   "cell_type": "code",
   "execution_count": null,
   "metadata": {},
   "outputs": [],
   "source": [
    "import glob\n",
    "import random\n",
    "import base64\n",
    "\n",
    "from PIL import Image\n",
    "from io import BytesIO\n",
    "from IPython.display import HTML\n",
    "import io\n",
    "\n",
    "pd.set_option('display.max_colwidth', -1)\n",
    "\n",
    "\n",
    "def get_thumbnail(path):\n",
    "    #path = \"\\\\\\\\?\\\\\"+path # This \"\\\\\\\\?\\\\\" is used to prevent problems with long Windows paths\n",
    "    i = Image.open(path)    \n",
    "    return i\n",
    "\n",
    "def image_base64(im):\n",
    "    if isinstance(im, str):\n",
    "        im = get_thumbnail(im)\n",
    "    with BytesIO() as buffer:\n",
    "        im.save(buffer, 'jpeg')\n",
    "        return base64.b64encode(buffer.getvalue()).decode()\n",
    "\n",
    "def image_formatter(im):\n",
    "    return f'<img src=\"data:image/jpeg;base64,{image_base64(im)}\">'"
   ]
  },
  {
   "cell_type": "code",
   "execution_count": null,
   "metadata": {},
   "outputs": [],
   "source": [
    "forecast_img = forecast.apply(lambda x: weather_images[x]).map(lambda f: get_thumbnail(f))\n",
    "forecast_img = forecast_img.to_frame('img')\n",
    "forecast_img= forecast_img.reindex(sorted(forecast_img.columns), axis=1)"
   ]
  },
  {
   "cell_type": "code",
   "execution_count": null,
   "metadata": {},
   "outputs": [],
   "source": [
    "\n",
    "HTML(forecast_img.to_html(formatters={'imagePILL': image_formatter}, escape=False))"
   ]
  }
 ],
 "metadata": {
  "kernelspec": {
   "display_name": "Python 3",
   "language": "python",
   "name": "python3"
  },
  "language_info": {
   "codemirror_mode": {
    "name": "ipython",
    "version": 3
   },
   "file_extension": ".py",
   "mimetype": "text/x-python",
   "name": "python",
   "nbconvert_exporter": "python",
   "pygments_lexer": "ipython3",
   "version": "3.8.1"
  }
 },
 "nbformat": 4,
 "nbformat_minor": 4
}
